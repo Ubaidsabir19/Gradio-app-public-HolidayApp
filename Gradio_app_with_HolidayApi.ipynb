{
  "nbformat": 4,
  "nbformat_minor": 0,
  "metadata": {
    "colab": {
      "provenance": []
    },
    "kernelspec": {
      "name": "python3",
      "display_name": "Python 3"
    },
    "language_info": {
      "name": "python"
    }
  },
  "cells": [
    {
      "cell_type": "code",
      "source": [
        "import gradio as gr\n",
        "import requests\n",
        "\n",
        "def get_holidays(api_key, year, country_code):\n",
        "    url = f\"https://public-holiday.p.rapidapi.com/{year}/{country_code}\"\n",
        "    headers = {\n",
        "        \"X-RapidAPI-Key\": api_key,\n",
        "        \"X-RapidAPI-Host\": \"public-holiday.p.rapidapi.com\"\n",
        "    }\n",
        "    response = requests.request(\"GET\", url, headers=headers)\n",
        "    if response.ok:\n",
        "        data = response.json()\n",
        "        result = \"\"\n",
        "        for holiday in data:\n",
        "            result += f\"{holiday['date']} - {holiday['localName']}\\n\"\n",
        "        return result.strip()\n",
        "    else:\n",
        "        return \"Error: \" + response.text\n",
        "\n",
        "api_key_input = gr.inputs.Textbox(label=\"API Key\")\n",
        "year_input = gr.inputs.Slider(label=\"Year\", minimum=2000, maximum=2100, default=2022, step=1)\n",
        "country_input = gr.inputs.Textbox(label=\"Country Code\", placeholder=\"Enter two-letter country code (e.g. US, GB, CA)\")\n",
        "output_text = gr.outputs.Textbox()\n",
        "\n",
        "interface = gr.Interface(get_holidays, \n",
        "                         inputs=[api_key_input, year_input, country_input], \n",
        "                         outputs=output_text,\n",
        "                         title=\"Public Holidays App\", \n",
        "                         description=\"Enter your RapidAPI key, a year, and a two-letter country code to get a list of public holidays for that year and country.\")\n",
        "\n",
        "interface.launch(share = True)"
      ],
      "metadata": {
        "colab": {
          "base_uri": "https://localhost:8080/",
          "height": 784
        },
        "id": "IWL1sdKfGuFO",
        "outputId": "45ee1798-5143-4bde-cd00-c330fe2e06d3"
      },
      "execution_count": null,
      "outputs": [
        {
          "output_type": "stream",
          "name": "stderr",
          "text": [
            "/usr/local/lib/python3.9/dist-packages/gradio/inputs.py:27: UserWarning: Usage of gradio.inputs is deprecated, and will not be supported in the future, please import your component from gradio.components\n",
            "  warnings.warn(\n",
            "/usr/local/lib/python3.9/dist-packages/gradio/deprecation.py:40: UserWarning: `optional` parameter is deprecated, and it has no effect\n",
            "  warnings.warn(value)\n",
            "/usr/local/lib/python3.9/dist-packages/gradio/deprecation.py:40: UserWarning: `numeric` parameter is deprecated, and it has no effect\n",
            "  warnings.warn(value)\n",
            "/usr/local/lib/python3.9/dist-packages/gradio/inputs.py:89: UserWarning: Usage of gradio.inputs is deprecated, and will not be supported in the future, please import your component from gradio.components\n",
            "  warnings.warn(\n",
            "/usr/local/lib/python3.9/dist-packages/gradio/outputs.py:22: UserWarning: Usage of gradio.outputs is deprecated, and will not be supported in the future, please import your components from gradio.components\n",
            "  warnings.warn(\n"
          ]
        },
        {
          "output_type": "stream",
          "name": "stdout",
          "text": [
            "Colab notebook detected. To show errors in colab notebook, set debug=True in launch()\n",
            "Running on public URL: https://a1f20caff93d8d6c73.gradio.live\n",
            "\n",
            "This share link expires in 72 hours. For free permanent hosting and GPU upgrades (NEW!), check out Spaces: https://huggingface.co/spaces\n"
          ]
        },
        {
          "output_type": "display_data",
          "data": {
            "text/plain": [
              "<IPython.core.display.HTML object>"
            ],
            "text/html": [
              "<div><iframe src=\"https://a1f20caff93d8d6c73.gradio.live\" width=\"100%\" height=\"500\" allow=\"autoplay; camera; microphone; clipboard-read; clipboard-write;\" frameborder=\"0\" allowfullscreen></iframe></div>"
            ]
          },
          "metadata": {}
        },
        {
          "output_type": "execute_result",
          "data": {
            "text/plain": []
          },
          "metadata": {},
          "execution_count": 13
        }
      ]
    }
  ]
}